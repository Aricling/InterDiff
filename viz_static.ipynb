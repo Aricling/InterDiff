{
 "cells": [
  {
   "cell_type": "code",
   "execution_count": 90,
   "metadata": {},
   "outputs": [],
   "source": [
    "import sys, os\n",
    "sys.path.append('/data1/guoling/InterDiff/interdiff')\n",
    "from psbody.mesh.colors import name_to_rgb\n",
    "from omegaconf import OmegaConf\n",
    "from psbody.mesh import Mesh   #主要是这个库进行静态可视化，一个待观察序列有T帧，选取其中一帧的mesh看\n",
    "import meshplot as mp\n",
    "import numpy as np\n",
    "import smplx\n",
    "import torch\n",
    "import mano\n",
    "import yaml\n",
    "import trimesh\n",
    "from os.path import isfile\n",
    "from libsmpl.smplpytorch.pytorch.smpl_layer import SMPL_Layer  #这个SMPLmodel作用是通过smpl参数得到mesh，进而可视化。\n",
    "from scipy.spatial.transform import Rotation\n",
    "from tqdm import tqdm\n",
    "import json\n",
    "with open( \"/data1/guoling/InterDiff/interdiff/data/cfg/BEHAVE.yml\", 'r') as stream:\n",
    "    paths = yaml.safe_load(stream)\n",
    "SPLIT_PATH, OBJECT_PATH, MOTION_PATH, MODEL_PATH = paths['SPLIT_PATH'], paths['OBJECT_TEMPLATE'], paths['MOTION_PATH'], paths['MODEL_PATH']"
   ]
  },
  {
   "cell_type": "code",
   "execution_count": 91,
   "metadata": {},
   "outputs": [],
   "source": [
    "import igl\n",
    "class ContactLabelGenerator(object):\n",
    "    \"class to generate contact labels\"\n",
    "    def __init__(self):\n",
    "        pass\n",
    "        \n",
    "\n",
    "    def get_contact_labels(self, smpl, object_points, thres=0.02):\n",
    "        \"\"\"\n",
    "        sample point on the object surface and compute contact labels for each point\n",
    "        :param smpl: trimesh object\n",
    "        :param obj: trimesh object\n",
    "        :param num_samples: number of samples on object surface\n",
    "        :param thres: threshold to determine whether a point is in contact with the human\n",
    "        :return:\n",
    "        for each point: a binary label (contact or not) and the closest SMPL vertex\n",
    "        \"\"\"\n",
    "        dist, faces, vertices, normals = igl.signed_distance(object_points, smpl.vertices, smpl.faces, return_normals=True)\n",
    "\n",
    "        # smpl_all = np.concatenate([vertices, normals], axis=1)\n",
    "        contact_object_label = np.where(dist<thres)[0]\n",
    "        # print(dist<thres, object_points[np.where(dist<thres)[0]].shape)\n",
    "        # smpl.vertices - object_points[np.where(dist<thres)[0]]\n",
    "        vertices_1 = np.expand_dims(object_points[contact_object_label], axis=0)\n",
    "        vertices_2 = np.expand_dims(smpl.vertices, axis=1)\n",
    "\n",
    "        contact_human_label = np.where((np.linalg.norm((vertices_1 - vertices_2), axis=2) < thres).any(axis=1))[0]\n",
    "        return contact_object_label, contact_human_label\n",
    "\n",
    "    def to_trimesh(self, mesh):\n",
    "        tri = trimesh.Trimesh(mesh.v, mesh.f, process=False)\n",
    "        return tri\n",
    "markerset_ssm67_smplh = [3470, 3171, 3327, 857, 1812, 628, 182, 3116, 3040, 239,\n",
    "                         1666, 1725, 0, 2174, 1568, 1368, 3387, 2112, 1053, 1058,\n",
    "                         3336, 3346, 1323, 2108, 3122, 3314, 1252, 1082, 1861, 1454,\n",
    "                         850, 2224, 3233, 1769, 6728, 4343, 5273, 4116, 3694, 6399,\n",
    "                         6540, 6488, 3749, 5135, 5194, 3512, 5635, 5210, 4360, 4841,\n",
    "                         6786, 5573, 4538, 4544, 6736, 6747, 4804, 5568, 6544, 6682,\n",
    "                         5322, 4927, 5686, 4598, 6633, 3506, 3508]"
   ]
  },
  {
   "cell_type": "markdown",
   "metadata": {},
   "source": [
    "## initial version"
   ]
  },
  {
   "cell_type": "code",
   "execution_count": 92,
   "metadata": {},
   "outputs": [
    {
     "data": {
      "text/plain": [
       "'\\nname = \\'Date07_Sub08_toolbox\\'\\noutfile = os.path.join(MOTION_PATH, name, \\'contact.npz\\')\\n#下载object 和 human \\nwith np.load(os.path.join(MOTION_PATH, name, \\'object_fit_all.npz\\'), allow_pickle=True) as f:\\n    obj_angles, obj_trans, frame_times = f[\\'angles\\'], f[\\'trans\\'], f[\\'frame_times\\']\\nwith np.load(os.path.join(MOTION_PATH, name, \\'smpl_fit_all.npz\\'), allow_pickle=True) as f:\\n    poses, betas, trans = f[\\'poses\\'], f[\\'betas\\'], f[\\'trans\\']\\n\\ninfo_file = os.path.join(MOTION_PATH, name, \\'info.json\\')\\ninfo = json.load(open(info_file))\\ngender = info[\\'gender\\']\\nobj_name = info[\\'cat\\']\\nbatch_end = len(frame_times)\\nprint(frame_times[0])\\n#object 模板，不是以原点为中心\\nmesh_obj = Mesh()\\nmesh_obj.load_from_obj(os.path.join(OBJECT_PATH, f\"{obj_name}/{obj_name}.obj\"))\\nmp_viewer = mp.plot(mesh_obj.v, mesh_obj.f, name_to_rgb[\\'pink\\'])\\nbeginning = np.array([[0, 0,0]])\\nending =  np.array([[1, 0, 0]])\\nending2 = np.array([[0, 1,0]])\\nending3 = np.array([[0, 0,1]])\\nmp_viewer.add_lines(beginning, ending,)\\n#mp_viewer.add_points(ending,name_to_rgb[\\'red\\'])\\nmp_viewer.add_lines(beginning, ending2)\\nmp_viewer.add_lines(beginning, ending3)\\nshading = {}\\nshading[\"point_size\"] = 0.5\\nmp_viewer.add_points(ending,c=\"red\",shading=shading)\\nmp_viewer.add_points(ending2,c=\"green\",shading=shading)\\nmp_viewer.add_points(ending3,c=\"blue\",shading=shading)\\n\\nsmpl_male = SMPL_Layer(center_idx=0, gender=\\'male\\', num_betas=10,\\n                            model_root=str(MODEL_PATH), hands=True)\\nsmpl_female = SMPL_Layer(center_idx=0, gender=\\'female\\', num_betas=10,\\n                        model_root=str(MODEL_PATH), hands=True)\\nsmpl = {\\'male\\': smpl_male, \\'female\\': smpl_female}[gender]\\nverts, jtr, _, _ = smpl(torch.tensor(poses), th_betas=torch.tensor(betas), th_trans=torch.tensor(trans))\\nverts = np.float32(verts)\\nfaces = smpl.th_faces.numpy()\\npelvis = np.float32(jtr[:, 0])\\n\\nprint(\\'verts\\',verts.shape)\\nprint(\\'pelvis\\',pelvis.shape)\\n\\nobj_verts = mesh_obj.v\\nobj_faces = mesh_obj.f\\ncenter = np.mean(obj_verts, 0)\\nobj_verts = obj_verts - center\\nobj = trimesh.Trimesh(obj_verts, obj_faces, process=False)\\n#mp_viewer.add_mesh(obj_verts,mesh_obj.f, name_to_rgb[\"green\"])\\n\\nobject_points, object_faces = obj.sample(2048, return_index=True)\\n#mp_viewer.add_points(object_points,c = \\'yellow\\')\\n\\n# for idx in tqdm(range(batch_end)): \\nidx=100\\nif idx == 100:\\n    #objrct at start \\n    obj_v = object_points.copy()\\n    a, t = obj_angles[idx], obj_trans[idx]\\n    rot = Rotation.from_rotvec(a).as_matrix()\\n    obj_v = np.matmul(obj_v, rot.T) + t\\n    #mp_viewer.add_points(obj_v,c = \\'red\\')\\n    #human at start \\n    mp_viewer.add_mesh(verts[idx], faces, name_to_rgb[\"green\"])\\n    joints = jtr[idx]\\n\\n    smplsmpl = trimesh.Trimesh(verts[idx], faces, process=False)\\n    generator = ContactLabelGenerator()\\n    contact_object_label, contact_human_label = generator.get_contact_labels(\\n    smplsmpl, obj_v)\\n    mp_viewer.add_points(obj_v[contact_object_label],c = \\'red\\')\\n\\n    #calculate rotation\\n    centroid = pelvis[idx]\\n    print(\\'centroid\\',centroid)\\n    print(\\'torch.tensor(poses)[idx,:3]\\',torch.tensor(poses)[idx,:3])\\n    global_orient = Rotation.from_rotvec(torch.tensor(poses)[idx,:3]).as_matrix()\\n    rotation_v = np.eye(3).astype(np.float32)\\n    cos, sin = global_orient[0, 0] / np.sqrt(global_orient[0, 0]**2 + global_orient[2, 0]**2), global_orient[2, 0] / np.sqrt(global_orient[0, 0]**2 + global_orient[2, 0]**2)\\n    rotation_v[[0, 2, 0, 2], [0, 2, 2, 0]] = np.array([cos, cos, -sin, sin])\\n    rotation = np.linalg.inv(rotation_v).astype(np.float32)\\n\\n#idx =idx+1\\nprint(\\'original_trans\\',trans[idx])   #人体的trans 不等于盆骨点jtr[:, 0]\\nnew_trans= trans[idx] - centroid\\nprint(\\'new_trans\\',new_trans)\\nnew_pelvis = pelvis[idx] - centroid\\nprint(\"new_pelvis\",new_pelvis)\\npelvis_original = new_pelvis - new_trans  # pelvis position in original smpl coords system\\nprint(\"pelvis_original\",pelvis_original)\\nnew_trans = np.dot(new_trans + pelvis_original, rotation.T) - pelvis_original\\npelvis1 = np.dot(new_pelvis, rotation.T)\\n\\n# human vertex in the canonical system\\nhuman_verts_tran = verts[idx] - centroid\\nhuman_verts_tran = np.dot(human_verts_tran, rotation.T)\\nshading ={}\\nshading[\"point_size\"] = 0.2\\nmp_viewer.add_points(human_verts_tran[markerset_ssm67_smplh],c = \\'black\\',shading = shading)\\n\\nposeidx=poses[idx]\\nprint(\\'original_poseidx[:3]\\',poseidx[:3])\\nr_ori = Rotation.from_rotvec(torch.tensor(poseidx)[:3])\\nr_new = Rotation.from_matrix(rotation) * r_ori\\nposeidx[:3] = r_new.as_rotvec()\\nprint(\\'poseidx[:3]\\',poseidx[:3])\\nprint(torch.tensor(poseidx).shape)\\nprint(torch.tensor(betas)[idx].shape)\\nprint(torch.tensor(new_trans).shape)\\nverts, jtr, _, _ = smpl(torch.tensor(poseidx).unsqueeze(0), th_betas=torch.tensor(betas)[idx].unsqueeze(0), th_trans=torch.tensor(new_trans).unsqueeze(0))\\n# verts00, jtr00, _, _ = smpl(torch.tensor(poseidx).unsqueeze(0)-torch.tensor(poseidx).unsqueeze(0), th_betas=torch.tensor(betas)[idx].unsqueeze(0), th_trans=torch.tensor(new_trans).unsqueeze(0)-torch.tensor(new_trans).unsqueeze(0))\\n# verts00 = np.float32(verts00)\\nverts = np.float32(verts)\\nmp_viewer.add_mesh(verts[0], faces, name_to_rgb[\"green\"])\\n#mp_viewer.add_mesh(verts00[0], faces, name_to_rgb[\"red\"])\\n\\n#objects\\nnew_obj_trans = obj_trans[idx] - centroid\\nnew_obj_trans = np.dot(new_obj_trans, rotation.T)\\n\\nr_ori = Rotation.from_rotvec(obj_angles[idx])\\nr_new = Rotation.from_matrix(rotation) * r_ori\\nnew_obj_angle = r_new.as_rotvec()\\nprint(\\'new_obj_angle\\',new_obj_angle)\\nobj_points = object_points.copy()  #这里的物体点云是normalize到原点的\\n\\nrot = r_new.as_matrix()\\nobj_points = np.matmul(obj_points, rot.T) + new_obj_trans\\nmp_viewer.add_points(obj_points,c = \\'red\\')\\n'"
      ]
     },
     "execution_count": 92,
     "metadata": {},
     "output_type": "execute_result"
    }
   ],
   "source": [
    "'''\n",
    "name = 'Date07_Sub08_toolbox'\n",
    "outfile = os.path.join(MOTION_PATH, name, 'contact.npz')\n",
    "#下载object 和 human \n",
    "with np.load(os.path.join(MOTION_PATH, name, 'object_fit_all.npz'), allow_pickle=True) as f:\n",
    "    obj_angles, obj_trans, frame_times = f['angles'], f['trans'], f['frame_times']\n",
    "with np.load(os.path.join(MOTION_PATH, name, 'smpl_fit_all.npz'), allow_pickle=True) as f:\n",
    "    poses, betas, trans = f['poses'], f['betas'], f['trans']\n",
    "\n",
    "info_file = os.path.join(MOTION_PATH, name, 'info.json')\n",
    "info = json.load(open(info_file))\n",
    "gender = info['gender']\n",
    "obj_name = info['cat']\n",
    "batch_end = len(frame_times)\n",
    "print(frame_times[0])\n",
    "#object 模板，不是以原点为中心\n",
    "mesh_obj = Mesh()\n",
    "mesh_obj.load_from_obj(os.path.join(OBJECT_PATH, f\"{obj_name}/{obj_name}.obj\"))\n",
    "mp_viewer = mp.plot(mesh_obj.v, mesh_obj.f, name_to_rgb['pink'])\n",
    "beginning = np.array([[0, 0,0]])\n",
    "ending =  np.array([[1, 0, 0]])\n",
    "ending2 = np.array([[0, 1,0]])\n",
    "ending3 = np.array([[0, 0,1]])\n",
    "mp_viewer.add_lines(beginning, ending,)\n",
    "#mp_viewer.add_points(ending,name_to_rgb['red'])\n",
    "mp_viewer.add_lines(beginning, ending2)\n",
    "mp_viewer.add_lines(beginning, ending3)\n",
    "shading = {}\n",
    "shading[\"point_size\"] = 0.5\n",
    "mp_viewer.add_points(ending,c=\"red\",shading=shading)\n",
    "mp_viewer.add_points(ending2,c=\"green\",shading=shading)\n",
    "mp_viewer.add_points(ending3,c=\"blue\",shading=shading)\n",
    "\n",
    "smpl_male = SMPL_Layer(center_idx=0, gender='male', num_betas=10,\n",
    "                            model_root=str(MODEL_PATH), hands=True)\n",
    "smpl_female = SMPL_Layer(center_idx=0, gender='female', num_betas=10,\n",
    "                        model_root=str(MODEL_PATH), hands=True)\n",
    "smpl = {'male': smpl_male, 'female': smpl_female}[gender]\n",
    "verts, jtr, _, _ = smpl(torch.tensor(poses), th_betas=torch.tensor(betas), th_trans=torch.tensor(trans))\n",
    "verts = np.float32(verts)\n",
    "faces = smpl.th_faces.numpy()\n",
    "pelvis = np.float32(jtr[:, 0])\n",
    "\n",
    "print('verts',verts.shape)\n",
    "print('pelvis',pelvis.shape)\n",
    "\n",
    "obj_verts = mesh_obj.v\n",
    "obj_faces = mesh_obj.f\n",
    "center = np.mean(obj_verts, 0)\n",
    "obj_verts = obj_verts - center\n",
    "obj = trimesh.Trimesh(obj_verts, obj_faces, process=False)\n",
    "#mp_viewer.add_mesh(obj_verts,mesh_obj.f, name_to_rgb[\"green\"])\n",
    "\n",
    "object_points, object_faces = obj.sample(2048, return_index=True)\n",
    "#mp_viewer.add_points(object_points,c = 'yellow')\n",
    "\n",
    "# for idx in tqdm(range(batch_end)): \n",
    "idx=100\n",
    "if idx == 100:\n",
    "    #objrct at start \n",
    "    obj_v = object_points.copy()\n",
    "    a, t = obj_angles[idx], obj_trans[idx]\n",
    "    rot = Rotation.from_rotvec(a).as_matrix()\n",
    "    obj_v = np.matmul(obj_v, rot.T) + t\n",
    "    #mp_viewer.add_points(obj_v,c = 'red')\n",
    "    #human at start \n",
    "    mp_viewer.add_mesh(verts[idx], faces, name_to_rgb[\"green\"])\n",
    "    joints = jtr[idx]\n",
    "\n",
    "    smplsmpl = trimesh.Trimesh(verts[idx], faces, process=False)\n",
    "    generator = ContactLabelGenerator()\n",
    "    contact_object_label, contact_human_label = generator.get_contact_labels(\n",
    "    smplsmpl, obj_v)\n",
    "    mp_viewer.add_points(obj_v[contact_object_label],c = 'red')\n",
    "\n",
    "    #calculate rotation\n",
    "    centroid = pelvis[idx]\n",
    "    print('centroid',centroid)\n",
    "    print('torch.tensor(poses)[idx,:3]',torch.tensor(poses)[idx,:3])\n",
    "    global_orient = Rotation.from_rotvec(torch.tensor(poses)[idx,:3]).as_matrix()\n",
    "    rotation_v = np.eye(3).astype(np.float32)\n",
    "    cos, sin = global_orient[0, 0] / np.sqrt(global_orient[0, 0]**2 + global_orient[2, 0]**2), global_orient[2, 0] / np.sqrt(global_orient[0, 0]**2 + global_orient[2, 0]**2)\n",
    "    rotation_v[[0, 2, 0, 2], [0, 2, 2, 0]] = np.array([cos, cos, -sin, sin])\n",
    "    rotation = np.linalg.inv(rotation_v).astype(np.float32)\n",
    "\n",
    "#idx =idx+1\n",
    "print('original_trans',trans[idx])   #人体的trans 不等于盆骨点jtr[:, 0]\n",
    "new_trans= trans[idx] - centroid\n",
    "print('new_trans',new_trans)\n",
    "new_pelvis = pelvis[idx] - centroid\n",
    "print(\"new_pelvis\",new_pelvis)\n",
    "pelvis_original = new_pelvis - new_trans  # pelvis position in original smpl coords system\n",
    "print(\"pelvis_original\",pelvis_original)\n",
    "new_trans = np.dot(new_trans + pelvis_original, rotation.T) - pelvis_original\n",
    "pelvis1 = np.dot(new_pelvis, rotation.T)\n",
    "\n",
    "# human vertex in the canonical system\n",
    "human_verts_tran = verts[idx] - centroid\n",
    "human_verts_tran = np.dot(human_verts_tran, rotation.T)\n",
    "shading ={}\n",
    "shading[\"point_size\"] = 0.2\n",
    "mp_viewer.add_points(human_verts_tran[markerset_ssm67_smplh],c = 'black',shading = shading)\n",
    "\n",
    "poseidx=poses[idx]\n",
    "print('original_poseidx[:3]',poseidx[:3])\n",
    "r_ori = Rotation.from_rotvec(torch.tensor(poseidx)[:3])\n",
    "r_new = Rotation.from_matrix(rotation) * r_ori\n",
    "poseidx[:3] = r_new.as_rotvec()\n",
    "print('poseidx[:3]',poseidx[:3])\n",
    "print(torch.tensor(poseidx).shape)\n",
    "print(torch.tensor(betas)[idx].shape)\n",
    "print(torch.tensor(new_trans).shape)\n",
    "verts, jtr, _, _ = smpl(torch.tensor(poseidx).unsqueeze(0), th_betas=torch.tensor(betas)[idx].unsqueeze(0), th_trans=torch.tensor(new_trans).unsqueeze(0))\n",
    "# verts00, jtr00, _, _ = smpl(torch.tensor(poseidx).unsqueeze(0)-torch.tensor(poseidx).unsqueeze(0), th_betas=torch.tensor(betas)[idx].unsqueeze(0), th_trans=torch.tensor(new_trans).unsqueeze(0)-torch.tensor(new_trans).unsqueeze(0))\n",
    "# verts00 = np.float32(verts00)\n",
    "verts = np.float32(verts)\n",
    "mp_viewer.add_mesh(verts[0], faces, name_to_rgb[\"green\"])\n",
    "#mp_viewer.add_mesh(verts00[0], faces, name_to_rgb[\"red\"])\n",
    "\n",
    "#objects\n",
    "new_obj_trans = obj_trans[idx] - centroid\n",
    "new_obj_trans = np.dot(new_obj_trans, rotation.T)\n",
    "\n",
    "r_ori = Rotation.from_rotvec(obj_angles[idx])\n",
    "r_new = Rotation.from_matrix(rotation) * r_ori\n",
    "new_obj_angle = r_new.as_rotvec()\n",
    "print('new_obj_angle',new_obj_angle)\n",
    "obj_points = object_points.copy()  #这里的物体点云是normalize到原点的\n",
    "\n",
    "rot = r_new.as_matrix()\n",
    "obj_points = np.matmul(obj_points, rot.T) + new_obj_trans\n",
    "mp_viewer.add_points(obj_points,c = 'red')\n",
    "'''\n",
    "\n",
    "    \n",
    "\n"
   ]
  },
  {
   "cell_type": "markdown",
   "metadata": {},
   "source": [
    "## Read processed data"
   ]
  },
  {
   "cell_type": "code",
   "execution_count": 93,
   "metadata": {},
   "outputs": [
    {
     "name": "stdout",
     "output_type": "stream",
     "text": [
      "poses (300, 156)\n",
      "betas (300, 10)\n",
      "trans (300, 3)\n",
      "jtrs (300, 24, 3)\n",
      "obj_trans (300, 3)\n",
      "obj_angles (300, 3)\n"
     ]
    }
   ],
   "source": [
    "name = 'Date01_Sub01_monitor_hand'\n",
    "sequence_dir=f\"/data1/guoling/InterDiff/interdiff/data/behave/sequences/{name}\"\n",
    "smpl_info=np.load(os.path.join(sequence_dir, 'clips_preprocessed/clip_0000_0299.npz'))\n",
    "# print(list(smpl_info.keys()))\n",
    "smpl_info_dict=dict(smpl_info)\n",
    "# print(smpl_info_dict)\n",
    "for key in smpl_info_dict:\n",
    "    print(key, smpl_info_dict[key].shape)\n"
   ]
  },
  {
   "cell_type": "markdown",
   "metadata": {},
   "source": [
    "## Viz new version"
   ]
  },
  {
   "cell_type": "markdown",
   "metadata": {},
   "source": [
    "### intialize mesh and smpl model"
   ]
  },
  {
   "cell_type": "code",
   "execution_count": 94,
   "metadata": {},
   "outputs": [],
   "source": [
    "with np.load(os.path.join(MOTION_PATH, name, 'clips_preprocessed/clip_0000_0299.npz'), allow_pickle=True) as f:\n",
    "    poses, betas, trans, jtrs, obj_angles, obj_trans = f['poses'], f['betas'], f['trans'], f['jtrs'], f['obj_angles'], f['obj_trans']\n",
    "\n",
    "info_file = os.path.join(sequence_dir, 'info.json')\n",
    "info = json.load(open(info_file))\n",
    "gender = info['gender']\n",
    "obj_name = info['cat']\n",
    "\n",
    "# intialize mesh\n",
    "mesh_obj = Mesh()\n",
    "\n",
    "# initialize smpl model\n",
    "smpl_male = SMPL_Layer(center_idx=0, gender='male', num_betas=10,\n",
    "                            model_root=str(MODEL_PATH), hands=True)\n",
    "smpl_female = SMPL_Layer(center_idx=0, gender='female', num_betas=10,\n",
    "                        model_root=str(MODEL_PATH), hands=True)\n",
    "smpl = {'male': smpl_male, 'female': smpl_female}[gender]\n"
   ]
  },
  {
   "cell_type": "markdown",
   "metadata": {},
   "source": [
    "### process object and smpl"
   ]
  },
  {
   "cell_type": "code",
   "execution_count": 95,
   "metadata": {},
   "outputs": [
    {
     "name": "stdout",
     "output_type": "stream",
     "text": [
      "(24, 3)\n",
      "[(0, 0.07319486180498941), (1, 0.07902200414963789), (2, 0.01648115189126989), (3, 0.01074395778885208), (4, 0.0642240463114368), (5, 0.08267474035346985), (6, 0.005926831144433077), (7, 0.02125409472072848), (8, 0.05351740137515759), (9, 0.015552924729171153), (10, 0.0828157316461523), (11, 0.05912225001173456), (12, 0.12422074878106848), (13, 0.1293971750037194), (14, 0.0830991547054812), (15, 0.06113617445371351), (16, 0.3671142437907102), (17, 0.0891337680988669), (18, 0.1250684783967691), (19, 0.08022378411352628), (20, 0.11944749226213577), (21, 0.14626053643876769), (22, 0.074222302352634), (23, 0.1457816603927331)]\n"
     ]
    }
   ],
   "source": [
    "idx=200\n",
    "\n",
    "# instantiate mesh class\n",
    "mesh_obj.load_from_obj(os.path.join(OBJECT_PATH, f\"{obj_name}/{obj_name}.obj\"))\n",
    "\n",
    "# 计算物体的几何中心并减去，拉到y轴上来，并没有考虑朝向，并以绿色画出\n",
    "obj_verts = mesh_obj.v\n",
    "obj_faces = mesh_obj.f\n",
    "# print('2222', obj_verts.shape, obj_faces.shape)\n",
    "center = np.mean(obj_verts, 0)\n",
    "obj_verts = obj_verts - center\n",
    "a, t = obj_angles[idx], obj_trans[idx]\n",
    "rot = Rotation.from_rotvec(a).as_matrix()\n",
    "obj_v = np.matmul(obj_verts, rot.T) + t\n",
    "obj_f = obj_faces\n",
    "\n",
    "# # 选取一下异常点，通过距离到物体中心的距离计算\n",
    "# obj_center=np.mean(obj_verts, 0)    # 已经变换后的中心点\n",
    "# print(obj_center.shape)\n",
    "\n",
    "\n",
    "# 自己选出来的物体上的采样点\n",
    "my_24obj_path = os.path.join('/data1/guoling/InterDiff/interdiff/data/select_24_obj_kp', '{}.npy'.format(obj_name))\n",
    "my_24obj = np.load(my_24obj_path)\n",
    "obj_24points = (my_24obj - center).astype(np.float32)\n",
    "print(obj_24points.shape)\n",
    "distance_list=[(i, x**2+y**2+z**2)for i, (x,y,z) in enumerate(obj_24points)]\n",
    "print(distance_list)\n",
    "obj_v_select_24 = np.matmul(obj_24points, rot.T) + t\n",
    "\n",
    "# deal with smpl\n",
    "verts, _, _, _ = smpl(torch.tensor(poses[idx]).unsqueeze(0), th_betas=torch.tensor(betas)[idx].unsqueeze(0), th_trans=torch.tensor(trans[idx]).unsqueeze(0))\n",
    "verts = np.float32(verts)\n",
    "faces = smpl.th_faces.numpy()\n"
   ]
  },
  {
   "cell_type": "markdown",
   "metadata": {},
   "source": [
    "### draw smpl and object"
   ]
  },
  {
   "cell_type": "code",
   "execution_count": 96,
   "metadata": {},
   "outputs": [
    {
     "data": {
      "application/vnd.jupyter.widget-view+json": {
       "model_id": "c4585559daef43558c020efdd407334e",
       "version_major": 2,
       "version_minor": 0
      },
      "text/plain": [
       "Renderer(camera=PerspectiveCamera(children=(DirectionalLight(color='white', intensity=0.6, position=(0.0, 0.0,…"
      ]
     },
     "metadata": {},
     "output_type": "display_data"
    },
    {
     "data": {
      "text/plain": [
       "10"
      ]
     },
     "execution_count": 96,
     "metadata": {},
     "output_type": "execute_result"
    },
    {
     "ename": "TraitError",
     "evalue": "The 'rotation' trait of a PerspectiveCamera instance contains an Enum of an Euler which expected any of ['XYZ', 'YZX', 'ZXY', 'XZY', 'YXZ', 'ZYX'], not the str 'xyz'.",
     "output_type": "error",
     "traceback": [
      "\u001b[0;31m---------------------------------------------------------------------------\u001b[0m",
      "\u001b[0;31mTraitError\u001b[0m                                Traceback (most recent call last)",
      "File \u001b[0;32m/data1/guoling/anaconda3/envs/interdiff/lib/python3.8/site-packages/ipywidgets/widgets/widget.py:773\u001b[0m, in \u001b[0;36mWidget._handle_msg\u001b[0;34m(self, msg)\u001b[0m\n\u001b[1;32m    771\u001b[0m         \u001b[38;5;28;01mif\u001b[39;00m \u001b[38;5;124m'\u001b[39m\u001b[38;5;124mbuffer_paths\u001b[39m\u001b[38;5;124m'\u001b[39m \u001b[38;5;129;01min\u001b[39;00m data:\n\u001b[1;32m    772\u001b[0m             _put_buffers(state, data[\u001b[38;5;124m'\u001b[39m\u001b[38;5;124mbuffer_paths\u001b[39m\u001b[38;5;124m'\u001b[39m], msg[\u001b[38;5;124m'\u001b[39m\u001b[38;5;124mbuffers\u001b[39m\u001b[38;5;124m'\u001b[39m])\n\u001b[0;32m--> 773\u001b[0m         \u001b[38;5;28;43mself\u001b[39;49m\u001b[38;5;241;43m.\u001b[39;49m\u001b[43mset_state\u001b[49m\u001b[43m(\u001b[49m\u001b[43mstate\u001b[49m\u001b[43m)\u001b[49m\n\u001b[1;32m    775\u001b[0m \u001b[38;5;66;03m# Handle a state request.\u001b[39;00m\n\u001b[1;32m    776\u001b[0m \u001b[38;5;28;01melif\u001b[39;00m method \u001b[38;5;241m==\u001b[39m \u001b[38;5;124m'\u001b[39m\u001b[38;5;124mrequest_state\u001b[39m\u001b[38;5;124m'\u001b[39m:\n",
      "File \u001b[0;32m/data1/guoling/anaconda3/envs/interdiff/lib/python3.8/site-packages/ipywidgets/widgets/widget.py:655\u001b[0m, in \u001b[0;36mWidget.set_state\u001b[0;34m(self, sync_data)\u001b[0m\n\u001b[1;32m    652\u001b[0m \u001b[38;5;28;01mif\u001b[39;00m name \u001b[38;5;129;01min\u001b[39;00m \u001b[38;5;28mself\u001b[39m\u001b[38;5;241m.\u001b[39mkeys:\n\u001b[1;32m    653\u001b[0m     from_json \u001b[38;5;241m=\u001b[39m \u001b[38;5;28mself\u001b[39m\u001b[38;5;241m.\u001b[39mtrait_metadata(name, \u001b[38;5;124m'\u001b[39m\u001b[38;5;124mfrom_json\u001b[39m\u001b[38;5;124m'\u001b[39m,\n\u001b[1;32m    654\u001b[0m                                     \u001b[38;5;28mself\u001b[39m\u001b[38;5;241m.\u001b[39m_trait_from_json)\n\u001b[0;32m--> 655\u001b[0m     \u001b[38;5;28;43mself\u001b[39;49m\u001b[38;5;241;43m.\u001b[39;49m\u001b[43mset_trait\u001b[49m\u001b[43m(\u001b[49m\u001b[43mname\u001b[49m\u001b[43m,\u001b[49m\u001b[43m \u001b[49m\u001b[43mfrom_json\u001b[49m\u001b[43m(\u001b[49m\u001b[43msync_data\u001b[49m\u001b[43m[\u001b[49m\u001b[43mname\u001b[49m\u001b[43m]\u001b[49m\u001b[43m,\u001b[49m\u001b[43m \u001b[49m\u001b[38;5;28;43mself\u001b[39;49m\u001b[43m)\u001b[49m\u001b[43m)\u001b[49m\n",
      "File \u001b[0;32m/data1/guoling/anaconda3/envs/interdiff/lib/python3.8/site-packages/traitlets/traitlets.py:1764\u001b[0m, in \u001b[0;36mHasTraits.set_trait\u001b[0;34m(self, name, value)\u001b[0m\n\u001b[1;32m   1762\u001b[0m \u001b[38;5;28;01mif\u001b[39;00m \u001b[38;5;129;01mnot\u001b[39;00m \u001b[38;5;28mself\u001b[39m\u001b[38;5;241m.\u001b[39mhas_trait(name):\n\u001b[1;32m   1763\u001b[0m     \u001b[38;5;28;01mraise\u001b[39;00m TraitError(\u001b[38;5;124mf\u001b[39m\u001b[38;5;124m\"\u001b[39m\u001b[38;5;124mClass \u001b[39m\u001b[38;5;132;01m{\u001b[39;00m\u001b[38;5;28mcls\u001b[39m\u001b[38;5;241m.\u001b[39m\u001b[38;5;18m__name__\u001b[39m\u001b[38;5;132;01m}\u001b[39;00m\u001b[38;5;124m does not have a trait named \u001b[39m\u001b[38;5;132;01m{\u001b[39;00mname\u001b[38;5;132;01m}\u001b[39;00m\u001b[38;5;124m\"\u001b[39m)\n\u001b[0;32m-> 1764\u001b[0m \u001b[38;5;28;43mgetattr\u001b[39;49m\u001b[43m(\u001b[49m\u001b[38;5;28;43mcls\u001b[39;49m\u001b[43m,\u001b[49m\u001b[43m \u001b[49m\u001b[43mname\u001b[49m\u001b[43m)\u001b[49m\u001b[38;5;241;43m.\u001b[39;49m\u001b[43mset\u001b[49m\u001b[43m(\u001b[49m\u001b[38;5;28;43mself\u001b[39;49m\u001b[43m,\u001b[49m\u001b[43m \u001b[49m\u001b[43mvalue\u001b[49m\u001b[43m)\u001b[49m\n",
      "File \u001b[0;32m/data1/guoling/anaconda3/envs/interdiff/lib/python3.8/site-packages/traitlets/traitlets.py:690\u001b[0m, in \u001b[0;36mTraitType.set\u001b[0;34m(self, obj, value)\u001b[0m\n\u001b[1;32m    689\u001b[0m \u001b[38;5;28;01mdef\u001b[39;00m \u001b[38;5;21mset\u001b[39m(\u001b[38;5;28mself\u001b[39m, obj: HasTraits, value: S) \u001b[38;5;241m-\u001b[39m\u001b[38;5;241m>\u001b[39m \u001b[38;5;28;01mNone\u001b[39;00m:\n\u001b[0;32m--> 690\u001b[0m     new_value \u001b[38;5;241m=\u001b[39m \u001b[38;5;28;43mself\u001b[39;49m\u001b[38;5;241;43m.\u001b[39;49m\u001b[43m_validate\u001b[49m\u001b[43m(\u001b[49m\u001b[43mobj\u001b[49m\u001b[43m,\u001b[49m\u001b[43m \u001b[49m\u001b[43mvalue\u001b[49m\u001b[43m)\u001b[49m\n\u001b[1;32m    691\u001b[0m     \u001b[38;5;28;01massert\u001b[39;00m \u001b[38;5;28mself\u001b[39m\u001b[38;5;241m.\u001b[39mname \u001b[38;5;129;01mis\u001b[39;00m \u001b[38;5;129;01mnot\u001b[39;00m \u001b[38;5;28;01mNone\u001b[39;00m\n\u001b[1;32m    692\u001b[0m     \u001b[38;5;28;01mtry\u001b[39;00m:\n",
      "File \u001b[0;32m/data1/guoling/anaconda3/envs/interdiff/lib/python3.8/site-packages/traitlets/traitlets.py:722\u001b[0m, in \u001b[0;36mTraitType._validate\u001b[0;34m(self, obj, value)\u001b[0m\n\u001b[1;32m    720\u001b[0m     \u001b[38;5;28;01mreturn\u001b[39;00m value\n\u001b[1;32m    721\u001b[0m \u001b[38;5;28;01mif\u001b[39;00m \u001b[38;5;28mhasattr\u001b[39m(\u001b[38;5;28mself\u001b[39m, \u001b[38;5;124m\"\u001b[39m\u001b[38;5;124mvalidate\u001b[39m\u001b[38;5;124m\"\u001b[39m):\n\u001b[0;32m--> 722\u001b[0m     value \u001b[38;5;241m=\u001b[39m \u001b[38;5;28;43mself\u001b[39;49m\u001b[38;5;241;43m.\u001b[39;49m\u001b[43mvalidate\u001b[49m\u001b[43m(\u001b[49m\u001b[43mobj\u001b[49m\u001b[43m,\u001b[49m\u001b[43m \u001b[49m\u001b[43mvalue\u001b[49m\u001b[43m)\u001b[49m\n\u001b[1;32m    723\u001b[0m \u001b[38;5;28;01mif\u001b[39;00m obj\u001b[38;5;241m.\u001b[39m_cross_validation_lock \u001b[38;5;129;01mis\u001b[39;00m \u001b[38;5;28;01mFalse\u001b[39;00m:\n\u001b[1;32m    724\u001b[0m     value \u001b[38;5;241m=\u001b[39m \u001b[38;5;28mself\u001b[39m\u001b[38;5;241m.\u001b[39m_cross_validate(obj, value)\n",
      "File \u001b[0;32m/data1/guoling/anaconda3/envs/interdiff/lib/python3.8/site-packages/traitlets/traitlets.py:3482\u001b[0m, in \u001b[0;36mContainer.validate\u001b[0;34m(self, obj, value)\u001b[0m\n\u001b[1;32m   3479\u001b[0m \u001b[38;5;28;01mif\u001b[39;00m value \u001b[38;5;129;01mis\u001b[39;00m \u001b[38;5;28;01mNone\u001b[39;00m:\n\u001b[1;32m   3480\u001b[0m     \u001b[38;5;28;01mreturn\u001b[39;00m value\n\u001b[0;32m-> 3482\u001b[0m value \u001b[38;5;241m=\u001b[39m \u001b[38;5;28;43mself\u001b[39;49m\u001b[38;5;241;43m.\u001b[39;49m\u001b[43mvalidate_elements\u001b[49m\u001b[43m(\u001b[49m\u001b[43mobj\u001b[49m\u001b[43m,\u001b[49m\u001b[43m \u001b[49m\u001b[43mvalue\u001b[49m\u001b[43m)\u001b[49m\n\u001b[1;32m   3484\u001b[0m \u001b[38;5;28;01mreturn\u001b[39;00m t\u001b[38;5;241m.\u001b[39mcast(T, value)\n",
      "File \u001b[0;32m/data1/guoling/anaconda3/envs/interdiff/lib/python3.8/site-packages/traitlets/traitlets.py:3823\u001b[0m, in \u001b[0;36mTuple.validate_elements\u001b[0;34m(self, obj, value)\u001b[0m\n\u001b[1;32m   3821\u001b[0m     v \u001b[38;5;241m=\u001b[39m trait\u001b[38;5;241m.\u001b[39m_validate(obj, v)\n\u001b[1;32m   3822\u001b[0m \u001b[38;5;28;01mexcept\u001b[39;00m TraitError \u001b[38;5;28;01mas\u001b[39;00m error:\n\u001b[0;32m-> 3823\u001b[0m     \u001b[38;5;28;43mself\u001b[39;49m\u001b[38;5;241;43m.\u001b[39;49m\u001b[43merror\u001b[49m\u001b[43m(\u001b[49m\u001b[43mobj\u001b[49m\u001b[43m,\u001b[49m\u001b[43m \u001b[49m\u001b[43mv\u001b[49m\u001b[43m,\u001b[49m\u001b[43m \u001b[49m\u001b[43merror\u001b[49m\u001b[43m)\u001b[49m\n\u001b[1;32m   3824\u001b[0m \u001b[38;5;28;01melse\u001b[39;00m:\n\u001b[1;32m   3825\u001b[0m     validated\u001b[38;5;241m.\u001b[39mappend(v)\n",
      "File \u001b[0;32m/data1/guoling/anaconda3/envs/interdiff/lib/python3.8/site-packages/traitlets/traitlets.py:810\u001b[0m, in \u001b[0;36mTraitType.error\u001b[0;34m(self, obj, value, error, info)\u001b[0m\n\u001b[1;32m    801\u001b[0m         \u001b[38;5;28;01melse\u001b[39;00m:\n\u001b[1;32m    802\u001b[0m             error\u001b[38;5;241m.\u001b[39margs \u001b[38;5;241m=\u001b[39m (\n\u001b[1;32m    803\u001b[0m                 \u001b[38;5;124m\"\u001b[39m\u001b[38;5;124mThe \u001b[39m\u001b[38;5;124m'\u001b[39m\u001b[38;5;132;01m{}\u001b[39;00m\u001b[38;5;124m'\u001b[39m\u001b[38;5;124m trait contains \u001b[39m\u001b[38;5;132;01m{}\u001b[39;00m\u001b[38;5;124m which \u001b[39m\u001b[38;5;124m\"\u001b[39m \u001b[38;5;124m\"\u001b[39m\u001b[38;5;124mexpected \u001b[39m\u001b[38;5;132;01m{}\u001b[39;00m\u001b[38;5;124m, not \u001b[39m\u001b[38;5;132;01m{}\u001b[39;00m\u001b[38;5;124m.\u001b[39m\u001b[38;5;124m\"\u001b[39m\u001b[38;5;241m.\u001b[39mformat(\n\u001b[1;32m    804\u001b[0m                     \u001b[38;5;28mself\u001b[39m\u001b[38;5;241m.\u001b[39mname,\n\u001b[0;32m   (...)\u001b[0m\n\u001b[1;32m    808\u001b[0m                 ),\n\u001b[1;32m    809\u001b[0m             )\n\u001b[0;32m--> 810\u001b[0m     \u001b[38;5;28;01mraise\u001b[39;00m error\n\u001b[1;32m    812\u001b[0m \u001b[38;5;66;03m# this trait caused an error\u001b[39;00m\n\u001b[1;32m    813\u001b[0m \u001b[38;5;28;01mif\u001b[39;00m \u001b[38;5;28mself\u001b[39m\u001b[38;5;241m.\u001b[39mname \u001b[38;5;129;01mis\u001b[39;00m \u001b[38;5;28;01mNone\u001b[39;00m:\n\u001b[1;32m    814\u001b[0m     \u001b[38;5;66;03m# this is not the root trait\u001b[39;00m\n",
      "File \u001b[0;32m/data1/guoling/anaconda3/envs/interdiff/lib/python3.8/site-packages/traitlets/traitlets.py:3821\u001b[0m, in \u001b[0;36mTuple.validate_elements\u001b[0;34m(self, obj, value)\u001b[0m\n\u001b[1;32m   3819\u001b[0m \u001b[38;5;28;01mfor\u001b[39;00m trait, v \u001b[38;5;129;01min\u001b[39;00m \u001b[38;5;28mzip\u001b[39m(\u001b[38;5;28mself\u001b[39m\u001b[38;5;241m.\u001b[39m_traits, value):\n\u001b[1;32m   3820\u001b[0m     \u001b[38;5;28;01mtry\u001b[39;00m:\n\u001b[0;32m-> 3821\u001b[0m         v \u001b[38;5;241m=\u001b[39m \u001b[43mtrait\u001b[49m\u001b[38;5;241;43m.\u001b[39;49m\u001b[43m_validate\u001b[49m\u001b[43m(\u001b[49m\u001b[43mobj\u001b[49m\u001b[43m,\u001b[49m\u001b[43m \u001b[49m\u001b[43mv\u001b[49m\u001b[43m)\u001b[49m\n\u001b[1;32m   3822\u001b[0m     \u001b[38;5;28;01mexcept\u001b[39;00m TraitError \u001b[38;5;28;01mas\u001b[39;00m error:\n\u001b[1;32m   3823\u001b[0m         \u001b[38;5;28mself\u001b[39m\u001b[38;5;241m.\u001b[39merror(obj, v, error)\n",
      "File \u001b[0;32m/data1/guoling/anaconda3/envs/interdiff/lib/python3.8/site-packages/traitlets/traitlets.py:722\u001b[0m, in \u001b[0;36mTraitType._validate\u001b[0;34m(self, obj, value)\u001b[0m\n\u001b[1;32m    720\u001b[0m     \u001b[38;5;28;01mreturn\u001b[39;00m value\n\u001b[1;32m    721\u001b[0m \u001b[38;5;28;01mif\u001b[39;00m \u001b[38;5;28mhasattr\u001b[39m(\u001b[38;5;28mself\u001b[39m, \u001b[38;5;124m\"\u001b[39m\u001b[38;5;124mvalidate\u001b[39m\u001b[38;5;124m\"\u001b[39m):\n\u001b[0;32m--> 722\u001b[0m     value \u001b[38;5;241m=\u001b[39m \u001b[38;5;28;43mself\u001b[39;49m\u001b[38;5;241;43m.\u001b[39;49m\u001b[43mvalidate\u001b[49m\u001b[43m(\u001b[49m\u001b[43mobj\u001b[49m\u001b[43m,\u001b[49m\u001b[43m \u001b[49m\u001b[43mvalue\u001b[49m\u001b[43m)\u001b[49m\n\u001b[1;32m    723\u001b[0m \u001b[38;5;28;01mif\u001b[39;00m obj\u001b[38;5;241m.\u001b[39m_cross_validation_lock \u001b[38;5;129;01mis\u001b[39;00m \u001b[38;5;28;01mFalse\u001b[39;00m:\n\u001b[1;32m    724\u001b[0m     value \u001b[38;5;241m=\u001b[39m \u001b[38;5;28mself\u001b[39m\u001b[38;5;241m.\u001b[39m_cross_validate(obj, value)\n",
      "File \u001b[0;32m/data1/guoling/anaconda3/envs/interdiff/lib/python3.8/site-packages/traitlets/traitlets.py:3224\u001b[0m, in \u001b[0;36mEnum.validate\u001b[0;34m(self, obj, value)\u001b[0m\n\u001b[1;32m   3222\u001b[0m \u001b[38;5;28;01mif\u001b[39;00m \u001b[38;5;28mself\u001b[39m\u001b[38;5;241m.\u001b[39mvalues \u001b[38;5;129;01mand\u001b[39;00m value \u001b[38;5;129;01min\u001b[39;00m \u001b[38;5;28mself\u001b[39m\u001b[38;5;241m.\u001b[39mvalues:\n\u001b[1;32m   3223\u001b[0m     \u001b[38;5;28;01mreturn\u001b[39;00m t\u001b[38;5;241m.\u001b[39mcast(G, value)\n\u001b[0;32m-> 3224\u001b[0m \u001b[38;5;28;43mself\u001b[39;49m\u001b[38;5;241;43m.\u001b[39;49m\u001b[43merror\u001b[49m\u001b[43m(\u001b[49m\u001b[43mobj\u001b[49m\u001b[43m,\u001b[49m\u001b[43m \u001b[49m\u001b[43mvalue\u001b[49m\u001b[43m)\u001b[49m\n",
      "File \u001b[0;32m/data1/guoling/anaconda3/envs/interdiff/lib/python3.8/site-packages/traitlets/traitlets.py:815\u001b[0m, in \u001b[0;36mTraitType.error\u001b[0;34m(self, obj, value, error, info)\u001b[0m\n\u001b[1;32m    812\u001b[0m \u001b[38;5;66;03m# this trait caused an error\u001b[39;00m\n\u001b[1;32m    813\u001b[0m \u001b[38;5;28;01mif\u001b[39;00m \u001b[38;5;28mself\u001b[39m\u001b[38;5;241m.\u001b[39mname \u001b[38;5;129;01mis\u001b[39;00m \u001b[38;5;28;01mNone\u001b[39;00m:\n\u001b[1;32m    814\u001b[0m     \u001b[38;5;66;03m# this is not the root trait\u001b[39;00m\n\u001b[0;32m--> 815\u001b[0m     \u001b[38;5;28;01mraise\u001b[39;00m TraitError(value, info \u001b[38;5;129;01mor\u001b[39;00m \u001b[38;5;28mself\u001b[39m\u001b[38;5;241m.\u001b[39minfo(), \u001b[38;5;28mself\u001b[39m)\n\u001b[1;32m    817\u001b[0m \u001b[38;5;66;03m# this is the root trait\u001b[39;00m\n\u001b[1;32m    818\u001b[0m \u001b[38;5;28;01mif\u001b[39;00m obj \u001b[38;5;129;01mis\u001b[39;00m \u001b[38;5;129;01mnot\u001b[39;00m \u001b[38;5;28;01mNone\u001b[39;00m:\n",
      "\u001b[0;31mTraitError\u001b[0m: The 'rotation' trait of a PerspectiveCamera instance contains an Enum of an Euler which expected any of ['XYZ', 'YZX', 'ZXY', 'XZY', 'YXZ', 'ZYX'], not the str 'xyz'."
     ]
    },
    {
     "ename": "TraitError",
     "evalue": "The 'rotation' trait of a PerspectiveCamera instance contains an Enum of an Euler which expected any of ['XYZ', 'YZX', 'ZXY', 'XZY', 'YXZ', 'ZYX'], not the str 'xyz'.",
     "output_type": "error",
     "traceback": [
      "\u001b[0;31m---------------------------------------------------------------------------\u001b[0m",
      "\u001b[0;31mTraitError\u001b[0m                                Traceback (most recent call last)",
      "File \u001b[0;32m/data1/guoling/anaconda3/envs/interdiff/lib/python3.8/site-packages/ipywidgets/widgets/widget.py:773\u001b[0m, in \u001b[0;36mWidget._handle_msg\u001b[0;34m(self, msg)\u001b[0m\n\u001b[1;32m    771\u001b[0m         \u001b[38;5;28;01mif\u001b[39;00m \u001b[38;5;124m'\u001b[39m\u001b[38;5;124mbuffer_paths\u001b[39m\u001b[38;5;124m'\u001b[39m \u001b[38;5;129;01min\u001b[39;00m data:\n\u001b[1;32m    772\u001b[0m             _put_buffers(state, data[\u001b[38;5;124m'\u001b[39m\u001b[38;5;124mbuffer_paths\u001b[39m\u001b[38;5;124m'\u001b[39m], msg[\u001b[38;5;124m'\u001b[39m\u001b[38;5;124mbuffers\u001b[39m\u001b[38;5;124m'\u001b[39m])\n\u001b[0;32m--> 773\u001b[0m         \u001b[38;5;28;43mself\u001b[39;49m\u001b[38;5;241;43m.\u001b[39;49m\u001b[43mset_state\u001b[49m\u001b[43m(\u001b[49m\u001b[43mstate\u001b[49m\u001b[43m)\u001b[49m\n\u001b[1;32m    775\u001b[0m \u001b[38;5;66;03m# Handle a state request.\u001b[39;00m\n\u001b[1;32m    776\u001b[0m \u001b[38;5;28;01melif\u001b[39;00m method \u001b[38;5;241m==\u001b[39m \u001b[38;5;124m'\u001b[39m\u001b[38;5;124mrequest_state\u001b[39m\u001b[38;5;124m'\u001b[39m:\n",
      "File \u001b[0;32m/data1/guoling/anaconda3/envs/interdiff/lib/python3.8/site-packages/ipywidgets/widgets/widget.py:655\u001b[0m, in \u001b[0;36mWidget.set_state\u001b[0;34m(self, sync_data)\u001b[0m\n\u001b[1;32m    652\u001b[0m \u001b[38;5;28;01mif\u001b[39;00m name \u001b[38;5;129;01min\u001b[39;00m \u001b[38;5;28mself\u001b[39m\u001b[38;5;241m.\u001b[39mkeys:\n\u001b[1;32m    653\u001b[0m     from_json \u001b[38;5;241m=\u001b[39m \u001b[38;5;28mself\u001b[39m\u001b[38;5;241m.\u001b[39mtrait_metadata(name, \u001b[38;5;124m'\u001b[39m\u001b[38;5;124mfrom_json\u001b[39m\u001b[38;5;124m'\u001b[39m,\n\u001b[1;32m    654\u001b[0m                                     \u001b[38;5;28mself\u001b[39m\u001b[38;5;241m.\u001b[39m_trait_from_json)\n\u001b[0;32m--> 655\u001b[0m     \u001b[38;5;28;43mself\u001b[39;49m\u001b[38;5;241;43m.\u001b[39;49m\u001b[43mset_trait\u001b[49m\u001b[43m(\u001b[49m\u001b[43mname\u001b[49m\u001b[43m,\u001b[49m\u001b[43m \u001b[49m\u001b[43mfrom_json\u001b[49m\u001b[43m(\u001b[49m\u001b[43msync_data\u001b[49m\u001b[43m[\u001b[49m\u001b[43mname\u001b[49m\u001b[43m]\u001b[49m\u001b[43m,\u001b[49m\u001b[43m \u001b[49m\u001b[38;5;28;43mself\u001b[39;49m\u001b[43m)\u001b[49m\u001b[43m)\u001b[49m\n",
      "File \u001b[0;32m/data1/guoling/anaconda3/envs/interdiff/lib/python3.8/site-packages/traitlets/traitlets.py:1764\u001b[0m, in \u001b[0;36mHasTraits.set_trait\u001b[0;34m(self, name, value)\u001b[0m\n\u001b[1;32m   1762\u001b[0m \u001b[38;5;28;01mif\u001b[39;00m \u001b[38;5;129;01mnot\u001b[39;00m \u001b[38;5;28mself\u001b[39m\u001b[38;5;241m.\u001b[39mhas_trait(name):\n\u001b[1;32m   1763\u001b[0m     \u001b[38;5;28;01mraise\u001b[39;00m TraitError(\u001b[38;5;124mf\u001b[39m\u001b[38;5;124m\"\u001b[39m\u001b[38;5;124mClass \u001b[39m\u001b[38;5;132;01m{\u001b[39;00m\u001b[38;5;28mcls\u001b[39m\u001b[38;5;241m.\u001b[39m\u001b[38;5;18m__name__\u001b[39m\u001b[38;5;132;01m}\u001b[39;00m\u001b[38;5;124m does not have a trait named \u001b[39m\u001b[38;5;132;01m{\u001b[39;00mname\u001b[38;5;132;01m}\u001b[39;00m\u001b[38;5;124m\"\u001b[39m)\n\u001b[0;32m-> 1764\u001b[0m \u001b[38;5;28;43mgetattr\u001b[39;49m\u001b[43m(\u001b[49m\u001b[38;5;28;43mcls\u001b[39;49m\u001b[43m,\u001b[49m\u001b[43m \u001b[49m\u001b[43mname\u001b[49m\u001b[43m)\u001b[49m\u001b[38;5;241;43m.\u001b[39;49m\u001b[43mset\u001b[49m\u001b[43m(\u001b[49m\u001b[38;5;28;43mself\u001b[39;49m\u001b[43m,\u001b[49m\u001b[43m \u001b[49m\u001b[43mvalue\u001b[49m\u001b[43m)\u001b[49m\n",
      "File \u001b[0;32m/data1/guoling/anaconda3/envs/interdiff/lib/python3.8/site-packages/traitlets/traitlets.py:690\u001b[0m, in \u001b[0;36mTraitType.set\u001b[0;34m(self, obj, value)\u001b[0m\n\u001b[1;32m    689\u001b[0m \u001b[38;5;28;01mdef\u001b[39;00m \u001b[38;5;21mset\u001b[39m(\u001b[38;5;28mself\u001b[39m, obj: HasTraits, value: S) \u001b[38;5;241m-\u001b[39m\u001b[38;5;241m>\u001b[39m \u001b[38;5;28;01mNone\u001b[39;00m:\n\u001b[0;32m--> 690\u001b[0m     new_value \u001b[38;5;241m=\u001b[39m \u001b[38;5;28;43mself\u001b[39;49m\u001b[38;5;241;43m.\u001b[39;49m\u001b[43m_validate\u001b[49m\u001b[43m(\u001b[49m\u001b[43mobj\u001b[49m\u001b[43m,\u001b[49m\u001b[43m \u001b[49m\u001b[43mvalue\u001b[49m\u001b[43m)\u001b[49m\n\u001b[1;32m    691\u001b[0m     \u001b[38;5;28;01massert\u001b[39;00m \u001b[38;5;28mself\u001b[39m\u001b[38;5;241m.\u001b[39mname \u001b[38;5;129;01mis\u001b[39;00m \u001b[38;5;129;01mnot\u001b[39;00m \u001b[38;5;28;01mNone\u001b[39;00m\n\u001b[1;32m    692\u001b[0m     \u001b[38;5;28;01mtry\u001b[39;00m:\n",
      "File \u001b[0;32m/data1/guoling/anaconda3/envs/interdiff/lib/python3.8/site-packages/traitlets/traitlets.py:722\u001b[0m, in \u001b[0;36mTraitType._validate\u001b[0;34m(self, obj, value)\u001b[0m\n\u001b[1;32m    720\u001b[0m     \u001b[38;5;28;01mreturn\u001b[39;00m value\n\u001b[1;32m    721\u001b[0m \u001b[38;5;28;01mif\u001b[39;00m \u001b[38;5;28mhasattr\u001b[39m(\u001b[38;5;28mself\u001b[39m, \u001b[38;5;124m\"\u001b[39m\u001b[38;5;124mvalidate\u001b[39m\u001b[38;5;124m\"\u001b[39m):\n\u001b[0;32m--> 722\u001b[0m     value \u001b[38;5;241m=\u001b[39m \u001b[38;5;28;43mself\u001b[39;49m\u001b[38;5;241;43m.\u001b[39;49m\u001b[43mvalidate\u001b[49m\u001b[43m(\u001b[49m\u001b[43mobj\u001b[49m\u001b[43m,\u001b[49m\u001b[43m \u001b[49m\u001b[43mvalue\u001b[49m\u001b[43m)\u001b[49m\n\u001b[1;32m    723\u001b[0m \u001b[38;5;28;01mif\u001b[39;00m obj\u001b[38;5;241m.\u001b[39m_cross_validation_lock \u001b[38;5;129;01mis\u001b[39;00m \u001b[38;5;28;01mFalse\u001b[39;00m:\n\u001b[1;32m    724\u001b[0m     value \u001b[38;5;241m=\u001b[39m \u001b[38;5;28mself\u001b[39m\u001b[38;5;241m.\u001b[39m_cross_validate(obj, value)\n",
      "File \u001b[0;32m/data1/guoling/anaconda3/envs/interdiff/lib/python3.8/site-packages/traitlets/traitlets.py:3482\u001b[0m, in \u001b[0;36mContainer.validate\u001b[0;34m(self, obj, value)\u001b[0m\n\u001b[1;32m   3479\u001b[0m \u001b[38;5;28;01mif\u001b[39;00m value \u001b[38;5;129;01mis\u001b[39;00m \u001b[38;5;28;01mNone\u001b[39;00m:\n\u001b[1;32m   3480\u001b[0m     \u001b[38;5;28;01mreturn\u001b[39;00m value\n\u001b[0;32m-> 3482\u001b[0m value \u001b[38;5;241m=\u001b[39m \u001b[38;5;28;43mself\u001b[39;49m\u001b[38;5;241;43m.\u001b[39;49m\u001b[43mvalidate_elements\u001b[49m\u001b[43m(\u001b[49m\u001b[43mobj\u001b[49m\u001b[43m,\u001b[49m\u001b[43m \u001b[49m\u001b[43mvalue\u001b[49m\u001b[43m)\u001b[49m\n\u001b[1;32m   3484\u001b[0m \u001b[38;5;28;01mreturn\u001b[39;00m t\u001b[38;5;241m.\u001b[39mcast(T, value)\n",
      "File \u001b[0;32m/data1/guoling/anaconda3/envs/interdiff/lib/python3.8/site-packages/traitlets/traitlets.py:3823\u001b[0m, in \u001b[0;36mTuple.validate_elements\u001b[0;34m(self, obj, value)\u001b[0m\n\u001b[1;32m   3821\u001b[0m     v \u001b[38;5;241m=\u001b[39m trait\u001b[38;5;241m.\u001b[39m_validate(obj, v)\n\u001b[1;32m   3822\u001b[0m \u001b[38;5;28;01mexcept\u001b[39;00m TraitError \u001b[38;5;28;01mas\u001b[39;00m error:\n\u001b[0;32m-> 3823\u001b[0m     \u001b[38;5;28;43mself\u001b[39;49m\u001b[38;5;241;43m.\u001b[39;49m\u001b[43merror\u001b[49m\u001b[43m(\u001b[49m\u001b[43mobj\u001b[49m\u001b[43m,\u001b[49m\u001b[43m \u001b[49m\u001b[43mv\u001b[49m\u001b[43m,\u001b[49m\u001b[43m \u001b[49m\u001b[43merror\u001b[49m\u001b[43m)\u001b[49m\n\u001b[1;32m   3824\u001b[0m \u001b[38;5;28;01melse\u001b[39;00m:\n\u001b[1;32m   3825\u001b[0m     validated\u001b[38;5;241m.\u001b[39mappend(v)\n",
      "File \u001b[0;32m/data1/guoling/anaconda3/envs/interdiff/lib/python3.8/site-packages/traitlets/traitlets.py:810\u001b[0m, in \u001b[0;36mTraitType.error\u001b[0;34m(self, obj, value, error, info)\u001b[0m\n\u001b[1;32m    801\u001b[0m         \u001b[38;5;28;01melse\u001b[39;00m:\n\u001b[1;32m    802\u001b[0m             error\u001b[38;5;241m.\u001b[39margs \u001b[38;5;241m=\u001b[39m (\n\u001b[1;32m    803\u001b[0m                 \u001b[38;5;124m\"\u001b[39m\u001b[38;5;124mThe \u001b[39m\u001b[38;5;124m'\u001b[39m\u001b[38;5;132;01m{}\u001b[39;00m\u001b[38;5;124m'\u001b[39m\u001b[38;5;124m trait contains \u001b[39m\u001b[38;5;132;01m{}\u001b[39;00m\u001b[38;5;124m which \u001b[39m\u001b[38;5;124m\"\u001b[39m \u001b[38;5;124m\"\u001b[39m\u001b[38;5;124mexpected \u001b[39m\u001b[38;5;132;01m{}\u001b[39;00m\u001b[38;5;124m, not \u001b[39m\u001b[38;5;132;01m{}\u001b[39;00m\u001b[38;5;124m.\u001b[39m\u001b[38;5;124m\"\u001b[39m\u001b[38;5;241m.\u001b[39mformat(\n\u001b[1;32m    804\u001b[0m                     \u001b[38;5;28mself\u001b[39m\u001b[38;5;241m.\u001b[39mname,\n\u001b[0;32m   (...)\u001b[0m\n\u001b[1;32m    808\u001b[0m                 ),\n\u001b[1;32m    809\u001b[0m             )\n\u001b[0;32m--> 810\u001b[0m     \u001b[38;5;28;01mraise\u001b[39;00m error\n\u001b[1;32m    812\u001b[0m \u001b[38;5;66;03m# this trait caused an error\u001b[39;00m\n\u001b[1;32m    813\u001b[0m \u001b[38;5;28;01mif\u001b[39;00m \u001b[38;5;28mself\u001b[39m\u001b[38;5;241m.\u001b[39mname \u001b[38;5;129;01mis\u001b[39;00m \u001b[38;5;28;01mNone\u001b[39;00m:\n\u001b[1;32m    814\u001b[0m     \u001b[38;5;66;03m# this is not the root trait\u001b[39;00m\n",
      "File \u001b[0;32m/data1/guoling/anaconda3/envs/interdiff/lib/python3.8/site-packages/traitlets/traitlets.py:3821\u001b[0m, in \u001b[0;36mTuple.validate_elements\u001b[0;34m(self, obj, value)\u001b[0m\n\u001b[1;32m   3819\u001b[0m \u001b[38;5;28;01mfor\u001b[39;00m trait, v \u001b[38;5;129;01min\u001b[39;00m \u001b[38;5;28mzip\u001b[39m(\u001b[38;5;28mself\u001b[39m\u001b[38;5;241m.\u001b[39m_traits, value):\n\u001b[1;32m   3820\u001b[0m     \u001b[38;5;28;01mtry\u001b[39;00m:\n\u001b[0;32m-> 3821\u001b[0m         v \u001b[38;5;241m=\u001b[39m \u001b[43mtrait\u001b[49m\u001b[38;5;241;43m.\u001b[39;49m\u001b[43m_validate\u001b[49m\u001b[43m(\u001b[49m\u001b[43mobj\u001b[49m\u001b[43m,\u001b[49m\u001b[43m \u001b[49m\u001b[43mv\u001b[49m\u001b[43m)\u001b[49m\n\u001b[1;32m   3822\u001b[0m     \u001b[38;5;28;01mexcept\u001b[39;00m TraitError \u001b[38;5;28;01mas\u001b[39;00m error:\n\u001b[1;32m   3823\u001b[0m         \u001b[38;5;28mself\u001b[39m\u001b[38;5;241m.\u001b[39merror(obj, v, error)\n",
      "File \u001b[0;32m/data1/guoling/anaconda3/envs/interdiff/lib/python3.8/site-packages/traitlets/traitlets.py:722\u001b[0m, in \u001b[0;36mTraitType._validate\u001b[0;34m(self, obj, value)\u001b[0m\n\u001b[1;32m    720\u001b[0m     \u001b[38;5;28;01mreturn\u001b[39;00m value\n\u001b[1;32m    721\u001b[0m \u001b[38;5;28;01mif\u001b[39;00m \u001b[38;5;28mhasattr\u001b[39m(\u001b[38;5;28mself\u001b[39m, \u001b[38;5;124m\"\u001b[39m\u001b[38;5;124mvalidate\u001b[39m\u001b[38;5;124m\"\u001b[39m):\n\u001b[0;32m--> 722\u001b[0m     value \u001b[38;5;241m=\u001b[39m \u001b[38;5;28;43mself\u001b[39;49m\u001b[38;5;241;43m.\u001b[39;49m\u001b[43mvalidate\u001b[49m\u001b[43m(\u001b[49m\u001b[43mobj\u001b[49m\u001b[43m,\u001b[49m\u001b[43m \u001b[49m\u001b[43mvalue\u001b[49m\u001b[43m)\u001b[49m\n\u001b[1;32m    723\u001b[0m \u001b[38;5;28;01mif\u001b[39;00m obj\u001b[38;5;241m.\u001b[39m_cross_validation_lock \u001b[38;5;129;01mis\u001b[39;00m \u001b[38;5;28;01mFalse\u001b[39;00m:\n\u001b[1;32m    724\u001b[0m     value \u001b[38;5;241m=\u001b[39m \u001b[38;5;28mself\u001b[39m\u001b[38;5;241m.\u001b[39m_cross_validate(obj, value)\n",
      "File \u001b[0;32m/data1/guoling/anaconda3/envs/interdiff/lib/python3.8/site-packages/traitlets/traitlets.py:3224\u001b[0m, in \u001b[0;36mEnum.validate\u001b[0;34m(self, obj, value)\u001b[0m\n\u001b[1;32m   3222\u001b[0m \u001b[38;5;28;01mif\u001b[39;00m \u001b[38;5;28mself\u001b[39m\u001b[38;5;241m.\u001b[39mvalues \u001b[38;5;129;01mand\u001b[39;00m value \u001b[38;5;129;01min\u001b[39;00m \u001b[38;5;28mself\u001b[39m\u001b[38;5;241m.\u001b[39mvalues:\n\u001b[1;32m   3223\u001b[0m     \u001b[38;5;28;01mreturn\u001b[39;00m t\u001b[38;5;241m.\u001b[39mcast(G, value)\n\u001b[0;32m-> 3224\u001b[0m \u001b[38;5;28;43mself\u001b[39;49m\u001b[38;5;241;43m.\u001b[39;49m\u001b[43merror\u001b[49m\u001b[43m(\u001b[49m\u001b[43mobj\u001b[49m\u001b[43m,\u001b[49m\u001b[43m \u001b[49m\u001b[43mvalue\u001b[49m\u001b[43m)\u001b[49m\n",
      "File \u001b[0;32m/data1/guoling/anaconda3/envs/interdiff/lib/python3.8/site-packages/traitlets/traitlets.py:815\u001b[0m, in \u001b[0;36mTraitType.error\u001b[0;34m(self, obj, value, error, info)\u001b[0m\n\u001b[1;32m    812\u001b[0m \u001b[38;5;66;03m# this trait caused an error\u001b[39;00m\n\u001b[1;32m    813\u001b[0m \u001b[38;5;28;01mif\u001b[39;00m \u001b[38;5;28mself\u001b[39m\u001b[38;5;241m.\u001b[39mname \u001b[38;5;129;01mis\u001b[39;00m \u001b[38;5;28;01mNone\u001b[39;00m:\n\u001b[1;32m    814\u001b[0m     \u001b[38;5;66;03m# this is not the root trait\u001b[39;00m\n\u001b[0;32m--> 815\u001b[0m     \u001b[38;5;28;01mraise\u001b[39;00m TraitError(value, info \u001b[38;5;129;01mor\u001b[39;00m \u001b[38;5;28mself\u001b[39m\u001b[38;5;241m.\u001b[39minfo(), \u001b[38;5;28mself\u001b[39m)\n\u001b[1;32m    817\u001b[0m \u001b[38;5;66;03m# this is the root trait\u001b[39;00m\n\u001b[1;32m    818\u001b[0m \u001b[38;5;28;01mif\u001b[39;00m obj \u001b[38;5;129;01mis\u001b[39;00m \u001b[38;5;129;01mnot\u001b[39;00m \u001b[38;5;28;01mNone\u001b[39;00m:\n",
      "\u001b[0;31mTraitError\u001b[0m: The 'rotation' trait of a PerspectiveCamera instance contains an Enum of an Euler which expected any of ['XYZ', 'YZX', 'ZXY', 'XZY', 'YXZ', 'ZYX'], not the str 'xyz'."
     ]
    }
   ],
   "source": [
    "# 在画板上添加xyz三条线，以及三条线的端点\n",
    "beginning = np.array([[0, 0,0]])\n",
    "ending1 =  np.array([[1, 0, 0]])\n",
    "ending2 = np.array([[0, 1,0]])\n",
    "ending3 = np.array([[0, 0,1]])\n",
    "mp_viewer=mp.plot(beginning)\n",
    "mp_viewer.add_lines(beginning, ending1,)\n",
    "mp_viewer.add_lines(beginning, ending2)\n",
    "mp_viewer.add_lines(beginning, ending3)\n",
    "shading = {}\n",
    "shading[\"point_size\"] = 0.5\n",
    "mp_viewer.add_points(ending1,c=\"red\",shading=shading)\n",
    "mp_viewer.add_points(ending2,c=\"green\",shading=shading)\n",
    "mp_viewer.add_points(ending3,c=\"blue\",shading=shading)\n",
    "\n",
    "# 画物体（直接读取来的）\n",
    "# mp_viewer.add_mesh(mesh_obj.v, mesh_obj.f, name_to_rgb['pink'])\n",
    "\n",
    "# 画出最初位置人体的mesh\n",
    "# mp_viewer.add_mesh(verts[idx], faces, name_to_rgb[\"green\"])\n",
    "\n",
    "# plot object in cononical space\n",
    "mp_viewer.add_mesh(obj_v, obj_f, name_to_rgb['red'])\n",
    "\n",
    "# plot selected dots on the object\n",
    "mp_viewer.add_points(obj_v_select_24, c=\"black\", shading={\"point_size\":0.3})\n",
    "# mp_viewer.add_mesh(obj_verts, obj_f, name_to_rgb['blue'])\n",
    "\n",
    "# plot smpl in cononical space\n",
    "mp_viewer.add_mesh(verts[0], faces, name_to_rgb[\"green\"])\n",
    "mp_viewer.add_points(np.array(jtrs)[idx], c='blue', shading={\"point_size\":1})"
   ]
  }
 ],
 "metadata": {
  "kernelspec": {
   "display_name": "flexnew",
   "language": "python",
   "name": "python3"
  },
  "language_info": {
   "codemirror_mode": {
    "name": "ipython",
    "version": 3
   },
   "file_extension": ".py",
   "mimetype": "text/x-python",
   "name": "python",
   "nbconvert_exporter": "python",
   "pygments_lexer": "ipython3",
   "version": "3.8.12"
  }
 },
 "nbformat": 4,
 "nbformat_minor": 2
}
